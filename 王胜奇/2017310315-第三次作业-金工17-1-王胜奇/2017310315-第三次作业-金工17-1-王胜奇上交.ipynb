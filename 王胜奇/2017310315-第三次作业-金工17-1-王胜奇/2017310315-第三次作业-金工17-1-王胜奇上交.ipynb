{
 "cells": [
  {
   "cell_type": "code",
   "execution_count": 79,
   "metadata": {},
   "outputs": [],
   "source": [
    "#判断是否是闰年\n",
    "def isleapyear(year):\n",
    "    if (year%4==0 and year%100!=0) or (year%400==0):\n",
    "        return True\n",
    "    else:\n",
    "        return False"
   ]
  },
  {
   "cell_type": "code",
   "execution_count": 80,
   "metadata": {},
   "outputs": [],
   "source": [
    "#确定某个月份的天数\n",
    "def getmonthday(year,month): \n",
    "    days=31\n",
    "    if month in [4,6,9,11]: \n",
    "        days=30 \n",
    "    elif month == 2: \n",
    "        if isleapyear(year): \n",
    "            days=29 \n",
    "        else: \n",
    "            days=28 \n",
    "    return days"
   ]
  },
  {
   "cell_type": "code",
   "execution_count": 81,
   "metadata": {},
   "outputs": [],
   "source": [
    "#计算某天距离1990年1月1日的天数\n",
    "def getTotalDaysFrom1990(year,month): \n",
    "    totaldays=0 \n",
    "    for i in range(1990,year): \n",
    "        if is_leap_year(i): \n",
    "            totaldays+=366 \n",
    "        else: \n",
    "            totaldays+=365 \n",
    "    for i in range(1,month): \n",
    "        totaldays+=getmonthday(year,i) \n",
    "    return totaldays"
   ]
  },
  {
   "cell_type": "code",
   "execution_count": null,
   "metadata": {},
   "outputs": [
    {
     "name": "stdout",
     "output_type": "stream",
     "text": [
      "请输入年份：12\n",
      "请输入月份：13\n"
     ]
    }
   ],
   "source": [
    "#主函数\n",
    "if __name__ == '__main__': \n",
    "    year = int(input('请输入年份：'))\n",
    "    month = int(input('请输入月份：'))\n",
    "    while month<1 or month>12:\n",
    "        continue\n",
    "    print('-'*60)#打印-\n",
    "    space_num = getTotalDaysFrom1990(year, month) % 7 + 1#计算空出个数\n",
    "    list=['January', 'February','March','April','May','June','July','August','September','October','November','December']\n",
    "    print('\\t\\t'+list[month-1]+'\\t\\t'+str(year))#打印月份年标题\n",
    "    print('\\tSun\\tMon\\tTue\\tWed\\tTur\\tFri\\tSat') #打印万年历星期标题\n",
    "    count = 0 \n",
    "    for i in range(1,getmonthday(year,month) + 1):\n",
    "        if (i == 1):\n",
    "            for j in range(space_num % 7):\n",
    "                print(\"\\t\",end=\"\")\n",
    "        print(\"\\t%2d\"%i,end=\"\")\n",
    "        if (i + space_num) % 7 == 0:\n",
    "            print()#打印日期"
   ]
  },
  {
   "cell_type": "code",
   "execution_count": null,
   "metadata": {},
   "outputs": [],
   "source": []
  }
 ],
 "metadata": {
  "kernelspec": {
   "display_name": "Python 3",
   "language": "python",
   "name": "python3"
  },
  "language_info": {
   "codemirror_mode": {
    "name": "ipython",
    "version": 3
   },
   "file_extension": ".py",
   "mimetype": "text/x-python",
   "name": "python",
   "nbconvert_exporter": "python",
   "pygments_lexer": "ipython3",
   "version": "3.6.5"
  }
 },
 "nbformat": 4,
 "nbformat_minor": 2
}
